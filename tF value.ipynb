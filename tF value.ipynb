{
 "cells": [
  {
   "cell_type": "markdown",
   "id": "b6c81204-3634-4802-a200-d287b565dd8c",
   "metadata": {
    "tags": []
   },
   "source": [
    "### <span style=\"color:Blue\"> **Country Reputations and Corporate Activity** </span>\n",
    "\n",
    "#### April 2022\n",
    "\n",
    "###### Mehmet Canayaz || mehmet@canayaz.net ||  http://www.canayaz.net\n"
   ]
  },
  {
   "cell_type": "markdown",
   "id": "6e239c5f-9137-4db9-9b8c-03f9f909fde8",
   "metadata": {
    "tags": []
   },
   "source": [
    "##### The below code estimates the critical value for our IV coefficient. \n",
    "\n",
    "##### Our 2SLS procedure is presented in  <span style=\"color:red\">Section B.9</span> and  <span style=\"color:red\">Table B.XIII </span> of the latest manuscript, which  can be found [here](https://papers.ssrn.com/sol3/papers.cfm?abstract_id=3224538). \n",
    "\n",
    "\n",
    "##### I replicate Results 2a/2c of Lee, McCrary, Moreira, Porter (2022). Their original paper can be found [here](http://www.princeton.edu/~davidlee/wp/w29124.pdf) and their Results 2a/2c can be found [here](http://www.princeton.edu/~davidlee/wp/tfNBERfinal_appendix.pdf).\n",
    "\n"
   ]
  },
  {
   "cell_type": "markdown",
   "id": "0904b7c6-ea5b-4149-9bac-2a2f96582d3f",
   "metadata": {},
   "source": [
    "----------------"
   ]
  },
  {
   "cell_type": "markdown",
   "id": "ccd12937-4297-4dcb-86f2-43ad4b427c07",
   "metadata": {},
   "source": [
    "#####  Imports"
   ]
  },
  {
   "cell_type": "code",
   "execution_count": 16,
   "id": "a4f5de9b-e65b-44de-b1be-ab69997c0c16",
   "metadata": {
    "tags": []
   },
   "outputs": [],
   "source": [
    "from scipy.stats import norm\n",
    "from scipy.optimize import fsolve\n",
    "import numpy as np"
   ]
  },
  {
   "cell_type": "markdown",
   "id": "949bc73b-0cfb-4bdc-942e-b9d6179cc677",
   "metadata": {},
   "source": [
    "----------------"
   ]
  },
  {
   "cell_type": "markdown",
   "id": "8a860d06-19fb-40c7-95e1-9f36da13deed",
   "metadata": {
    "tags": []
   },
   "source": [
    "#####  Sanity check"
   ]
  },
  {
   "cell_type": "code",
   "execution_count": 2,
   "id": "e956f325-549d-4943-b366-ef60f298cd09",
   "metadata": {},
   "outputs": [
    {
     "data": {
      "text/plain": [
       "0.9750021048517795"
      ]
     },
     "execution_count": 2,
     "metadata": {},
     "output_type": "execute_result"
    }
   ],
   "source": [
    "norm.cdf(1.96)"
   ]
  },
  {
   "cell_type": "markdown",
   "id": "2c844a13-9301-481f-bebe-b742f1e42e0d",
   "metadata": {
    "tags": []
   },
   "source": [
    "#####  Result 2a - see page 20 of Lee, McCrary, Moreira, Porter (2022)"
   ]
  },
  {
   "cell_type": "code",
   "execution_count": 5,
   "id": "9c3d8198-2365-4115-87e2-d94456db0abe",
   "metadata": {},
   "outputs": [
    {
     "data": {
      "text/plain": [
       "0.11313554932183273"
      ]
     },
     "execution_count": 5,
     "metadata": {},
     "output_type": "execute_result"
    }
   ],
   "source": [
    "f=10\n",
    "g=1.96**2\n",
    "1-norm.cdf(((f * g)**.5)/((f)**.5 + (g)**.5))+norm.cdf((-1*((f * g)**.5) -2*(f))/((f)**.5 + (g)**.5))"
   ]
  },
  {
   "cell_type": "markdown",
   "id": "cc6418d1-c7e4-4924-b582-19010b8bd5fd",
   "metadata": {
    "tags": []
   },
   "source": [
    "#####  Result 2c  - see page 20 of Lee, McCrary, Moreira, Porter (2022)"
   ]
  },
  {
   "cell_type": "code",
   "execution_count": 13,
   "id": "152256e0-d5df-4184-900b-3fcee0bb527e",
   "metadata": {},
   "outputs": [
    {
     "name": "stdout",
     "output_type": "stream",
     "text": [
      "[3.42789857]\n"
     ]
    }
   ],
   "source": [
    "eq = lambda g: .95-norm.cdf(((10 * g)**.5)/((10)**.5 + (g)**.5))+norm.cdf((-1*((10* g)**.5) -2*(10))/((10)**.5 + (g)**.5))\n",
    "print(fsolve(eq, 1)**.5)   # 1 is a random initial guess"
   ]
  },
  {
   "cell_type": "markdown",
   "id": "a5cafeb8-07c2-4457-a0be-9e4c8c3d1422",
   "metadata": {},
   "source": [
    "----------------"
   ]
  },
  {
   "cell_type": "markdown",
   "id": "e9587c56-7168-4d11-995a-77fb084bebc9",
   "metadata": {
    "tags": []
   },
   "source": [
    "#####  The reevaluation of our critical value"
   ]
  },
  {
   "cell_type": "code",
   "execution_count": 18,
   "id": "dcd0087c-5056-4de2-8ae1-17cf84794bdc",
   "metadata": {},
   "outputs": [
    {
     "name": "stdout",
     "output_type": "stream",
     "text": [
      "[2.51358874]\n"
     ]
    }
   ],
   "source": [
    "f=22.65\n",
    "eq = lambda g: .95-norm.cdf(((f * g)**.5)/((f)**.5 + (g)**.5))+norm.cdf((-1*((f* g)**.5) -2*(f))/((f)**.5 + (g)**.5))\n",
    "print(fsolve(eq, 1)**.5)   # 1 is a random initial guess"
   ]
  },
  {
   "cell_type": "code",
   "execution_count": null,
   "id": "fb3ff77c-e911-4cb2-90aa-866e18d70e3c",
   "metadata": {},
   "outputs": [],
   "source": []
  },
  {
   "cell_type": "code",
   "execution_count": 15,
   "id": "2cae1e03-f59a-434c-a641-f6c3e74c15d4",
   "metadata": {},
   "outputs": [
    {
     "name": "stdout",
     "output_type": "stream",
     "text": [
      "[2.51358874]\n"
     ]
    }
   ],
   "source": [
    "f=22.65\n",
    "eq = lambda g: .95-norm.cdf(((f * g)**.5)/((f)**.5 + (g)**.5))+norm.cdf((-1*((f* g)**.5) -2*(f))/((f)**.5 + (g)**.5))\n",
    "print(fsolve(eq, 0)**.5)   # 0 is a random initial guess"
   ]
  },
  {
   "cell_type": "code",
   "execution_count": null,
   "id": "3132a687-15f4-44ba-a6d3-aaf5b7042b1f",
   "metadata": {},
   "outputs": [],
   "source": []
  },
  {
   "cell_type": "code",
   "execution_count": 15,
   "id": "d284a4a7-df7a-44d9-80f1-7781259a8249",
   "metadata": {},
   "outputs": [
    {
     "name": "stdout",
     "output_type": "stream",
     "text": [
      "[2.51358874]\n"
     ]
    }
   ],
   "source": [
    "f=22.65\n",
    "eq = lambda g: .95-norm.cdf(((f * g)**.5)/((f)**.5 + (g)**.5))+norm.cdf((-1*((f* g)**.5) -2*(f))/((f)**.5 + (g)**.5))\n",
    "print(fsolve(eq, 10)**.5)   # 10 is a random initial guess"
   ]
  },
  {
   "cell_type": "markdown",
   "id": "6f9be31a-b183-4371-b731-5905a20b9b4c",
   "metadata": {},
   "source": [
    "----------------"
   ]
  }
 ],
 "metadata": {
  "kernelspec": {
   "display_name": "Python 3 (ipykernel)",
   "language": "python",
   "name": "python3"
  },
  "language_info": {
   "codemirror_mode": {
    "name": "ipython",
    "version": 3
   },
   "file_extension": ".py",
   "mimetype": "text/x-python",
   "name": "python",
   "nbconvert_exporter": "python",
   "pygments_lexer": "ipython3",
   "version": "3.8.3"
  }
 },
 "nbformat": 4,
 "nbformat_minor": 5
}
